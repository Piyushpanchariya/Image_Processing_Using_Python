{
 "cells": [
  {
   "cell_type": "code",
   "execution_count": null,
   "metadata": {},
   "outputs": [],
   "source": [
    "import cv2\n",
    "import numpy as np"
   ]
  },
  {
   "cell_type": "code",
   "execution_count": null,
   "metadata": {},
   "outputs": [],
   "source": [
    "arr = np.zeros([500,500,3])"
   ]
  },
  {
   "cell_type": "code",
   "execution_count": null,
   "metadata": {},
   "outputs": [],
   "source": [
    "arr.shape"
   ]
  },
  {
   "cell_type": "code",
   "execution_count": null,
   "metadata": {},
   "outputs": [],
   "source": [
    "arr[50:200 ,166:333] = [96,0,191] #face\n",
    "\n",
    "arr[200:400, 231:268] = [0,0,255] #body\n",
    "\n",
    "arr[300:450, 210:289] = [255,0,0] #pants\n",
    "\n",
    "arr[350:450, 240:260] = [0,0,0] #gap\n",
    "\n",
    "arr[100:115, 200:210] = [255,255,255] #right eye\n",
    "arr[100:115, 289:299] = [255,255,255] #left eye\n",
    "arr[150:165, 196:309] = [255,255,255] #mouth\n",
    "\n",
    "arr[215:230, 70:231] = [0,255,0] #right hand\n",
    "arr[215:230, 268:430] = [0,255,0] #left hand\n",
    "\n",
    "arr[75:215, 70:85] = [0,255,0]\n",
    "arr[75:215, 415:430] = [0,255,0]"
   ]
  },
  {
   "cell_type": "code",
   "execution_count": null,
   "metadata": {},
   "outputs": [],
   "source": [
    "cv2.imshow('photo',arr)\n",
    "cv2.waitKey()\n",
    "cv2.destroyAllWindows()"
   ]
  },
  {
   "cell_type": "code",
   "execution_count": null,
   "metadata": {},
   "outputs": [],
   "source": [
    "cv2.imwrite('image.jpg',arr)"
   ]
  },
  {
   "cell_type": "code",
   "execution_count": null,
   "metadata": {},
   "outputs": [],
   "source": []
  }
 ],
 "metadata": {
  "kernelspec": {
   "display_name": "Python 3",
   "language": "python",
   "name": "python3"
  },
  "language_info": {
   "codemirror_mode": {
    "name": "ipython",
    "version": 3
   },
   "file_extension": ".py",
   "mimetype": "text/x-python",
   "name": "python",
   "nbconvert_exporter": "python",
   "pygments_lexer": "ipython3",
   "version": "3.8.3"
  }
 },
 "nbformat": 4,
 "nbformat_minor": 4
}
